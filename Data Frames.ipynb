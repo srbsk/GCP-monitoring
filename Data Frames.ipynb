{
 "cells": [
  {
   "cell_type": "code",
   "execution_count": 3,
   "id": "ca9ae1f0",
   "metadata": {},
   "outputs": [],
   "source": [
    "import pandas as pd\n",
    "import numpy as np"
   ]
  },
  {
   "cell_type": "code",
   "execution_count": 3,
   "id": "fe663364",
   "metadata": {},
   "outputs": [],
   "source": [
    "nba = pd.read_csv(\"nba.csv\")"
   ]
  },
  {
   "cell_type": "code",
   "execution_count": 4,
   "id": "d68b02fa",
   "metadata": {},
   "outputs": [
    {
     "data": {
      "text/plain": [
       "RangeIndex(start=0, stop=458, step=1)"
      ]
     },
     "execution_count": 4,
     "metadata": {},
     "output_type": "execute_result"
    }
   ],
   "source": [
    "nba.index"
   ]
  },
  {
   "cell_type": "code",
   "execution_count": 5,
   "id": "d27b3b5f",
   "metadata": {},
   "outputs": [
    {
     "data": {
      "text/plain": [
       "array([['Avery Bradley', 'Boston Celtics', 0.0, ..., 180.0, 'Texas',\n",
       "        7730337.0],\n",
       "       ['Jae Crowder', 'Boston Celtics', 99.0, ..., 235.0, 'Marquette',\n",
       "        6796117.0],\n",
       "       ['John Holland', 'Boston Celtics', 30.0, ..., 205.0,\n",
       "        'Boston University', nan],\n",
       "       ...,\n",
       "       ['Tibor Pleiss', 'Utah Jazz', 21.0, ..., 256.0, nan, 2900000.0],\n",
       "       ['Jeff Withey', 'Utah Jazz', 24.0, ..., 231.0, 'Kansas', 947276.0],\n",
       "       [nan, nan, nan, ..., nan, nan, nan]], dtype=object)"
      ]
     },
     "execution_count": 5,
     "metadata": {},
     "output_type": "execute_result"
    }
   ],
   "source": [
    "nba.values"
   ]
  },
  {
   "cell_type": "code",
   "execution_count": 8,
   "id": "0311e945",
   "metadata": {},
   "outputs": [
    {
     "data": {
      "text/html": [
       "<div>\n",
       "<style scoped>\n",
       "    .dataframe tbody tr th:only-of-type {\n",
       "        vertical-align: middle;\n",
       "    }\n",
       "\n",
       "    .dataframe tbody tr th {\n",
       "        vertical-align: top;\n",
       "    }\n",
       "\n",
       "    .dataframe thead th {\n",
       "        text-align: right;\n",
       "    }\n",
       "</style>\n",
       "<table border=\"1\" class=\"dataframe\">\n",
       "  <thead>\n",
       "    <tr style=\"text-align: right;\">\n",
       "      <th></th>\n",
       "      <th>Name</th>\n",
       "      <th>Team</th>\n",
       "      <th>Number</th>\n",
       "      <th>Position</th>\n",
       "      <th>Age</th>\n",
       "      <th>Height</th>\n",
       "      <th>Weight</th>\n",
       "      <th>College</th>\n",
       "      <th>Salary</th>\n",
       "    </tr>\n",
       "  </thead>\n",
       "  <tbody>\n",
       "    <tr>\n",
       "      <th>0</th>\n",
       "      <td>Avery Bradley</td>\n",
       "      <td>Boston Celtics</td>\n",
       "      <td>0.0</td>\n",
       "      <td>PG</td>\n",
       "      <td>25.0</td>\n",
       "      <td>6-2</td>\n",
       "      <td>180.0</td>\n",
       "      <td>Texas</td>\n",
       "      <td>7730337.0</td>\n",
       "    </tr>\n",
       "    <tr>\n",
       "      <th>1</th>\n",
       "      <td>Jae Crowder</td>\n",
       "      <td>Boston Celtics</td>\n",
       "      <td>99.0</td>\n",
       "      <td>SF</td>\n",
       "      <td>25.0</td>\n",
       "      <td>6-6</td>\n",
       "      <td>235.0</td>\n",
       "      <td>Marquette</td>\n",
       "      <td>6796117.0</td>\n",
       "    </tr>\n",
       "    <tr>\n",
       "      <th>2</th>\n",
       "      <td>John Holland</td>\n",
       "      <td>Boston Celtics</td>\n",
       "      <td>30.0</td>\n",
       "      <td>SG</td>\n",
       "      <td>27.0</td>\n",
       "      <td>6-5</td>\n",
       "      <td>205.0</td>\n",
       "      <td>Boston University</td>\n",
       "      <td>NaN</td>\n",
       "    </tr>\n",
       "    <tr>\n",
       "      <th>3</th>\n",
       "      <td>R.J. Hunter</td>\n",
       "      <td>Boston Celtics</td>\n",
       "      <td>28.0</td>\n",
       "      <td>SG</td>\n",
       "      <td>22.0</td>\n",
       "      <td>6-5</td>\n",
       "      <td>185.0</td>\n",
       "      <td>Georgia State</td>\n",
       "      <td>1148640.0</td>\n",
       "    </tr>\n",
       "    <tr>\n",
       "      <th>4</th>\n",
       "      <td>Jonas Jerebko</td>\n",
       "      <td>Boston Celtics</td>\n",
       "      <td>8.0</td>\n",
       "      <td>PF</td>\n",
       "      <td>29.0</td>\n",
       "      <td>6-10</td>\n",
       "      <td>231.0</td>\n",
       "      <td>NaN</td>\n",
       "      <td>5000000.0</td>\n",
       "    </tr>\n",
       "    <tr>\n",
       "      <th>...</th>\n",
       "      <td>...</td>\n",
       "      <td>...</td>\n",
       "      <td>...</td>\n",
       "      <td>...</td>\n",
       "      <td>...</td>\n",
       "      <td>...</td>\n",
       "      <td>...</td>\n",
       "      <td>...</td>\n",
       "      <td>...</td>\n",
       "    </tr>\n",
       "    <tr>\n",
       "      <th>453</th>\n",
       "      <td>Shelvin Mack</td>\n",
       "      <td>Utah Jazz</td>\n",
       "      <td>8.0</td>\n",
       "      <td>PG</td>\n",
       "      <td>26.0</td>\n",
       "      <td>6-3</td>\n",
       "      <td>203.0</td>\n",
       "      <td>Butler</td>\n",
       "      <td>2433333.0</td>\n",
       "    </tr>\n",
       "    <tr>\n",
       "      <th>454</th>\n",
       "      <td>Raul Neto</td>\n",
       "      <td>Utah Jazz</td>\n",
       "      <td>25.0</td>\n",
       "      <td>PG</td>\n",
       "      <td>24.0</td>\n",
       "      <td>6-1</td>\n",
       "      <td>179.0</td>\n",
       "      <td>NaN</td>\n",
       "      <td>900000.0</td>\n",
       "    </tr>\n",
       "    <tr>\n",
       "      <th>455</th>\n",
       "      <td>Tibor Pleiss</td>\n",
       "      <td>Utah Jazz</td>\n",
       "      <td>21.0</td>\n",
       "      <td>C</td>\n",
       "      <td>26.0</td>\n",
       "      <td>7-3</td>\n",
       "      <td>256.0</td>\n",
       "      <td>NaN</td>\n",
       "      <td>2900000.0</td>\n",
       "    </tr>\n",
       "    <tr>\n",
       "      <th>456</th>\n",
       "      <td>Jeff Withey</td>\n",
       "      <td>Utah Jazz</td>\n",
       "      <td>24.0</td>\n",
       "      <td>C</td>\n",
       "      <td>26.0</td>\n",
       "      <td>7-0</td>\n",
       "      <td>231.0</td>\n",
       "      <td>Kansas</td>\n",
       "      <td>947276.0</td>\n",
       "    </tr>\n",
       "    <tr>\n",
       "      <th>457</th>\n",
       "      <td>NaN</td>\n",
       "      <td>NaN</td>\n",
       "      <td>NaN</td>\n",
       "      <td>NaN</td>\n",
       "      <td>NaN</td>\n",
       "      <td>NaN</td>\n",
       "      <td>NaN</td>\n",
       "      <td>NaN</td>\n",
       "      <td>NaN</td>\n",
       "    </tr>\n",
       "  </tbody>\n",
       "</table>\n",
       "<p>458 rows × 9 columns</p>\n",
       "</div>"
      ],
      "text/plain": [
       "              Name            Team  Number Position   Age Height  Weight  \\\n",
       "0    Avery Bradley  Boston Celtics     0.0       PG  25.0    6-2   180.0   \n",
       "1      Jae Crowder  Boston Celtics    99.0       SF  25.0    6-6   235.0   \n",
       "2     John Holland  Boston Celtics    30.0       SG  27.0    6-5   205.0   \n",
       "3      R.J. Hunter  Boston Celtics    28.0       SG  22.0    6-5   185.0   \n",
       "4    Jonas Jerebko  Boston Celtics     8.0       PF  29.0   6-10   231.0   \n",
       "..             ...             ...     ...      ...   ...    ...     ...   \n",
       "453   Shelvin Mack       Utah Jazz     8.0       PG  26.0    6-3   203.0   \n",
       "454      Raul Neto       Utah Jazz    25.0       PG  24.0    6-1   179.0   \n",
       "455   Tibor Pleiss       Utah Jazz    21.0        C  26.0    7-3   256.0   \n",
       "456    Jeff Withey       Utah Jazz    24.0        C  26.0    7-0   231.0   \n",
       "457            NaN             NaN     NaN      NaN   NaN    NaN     NaN   \n",
       "\n",
       "               College     Salary  \n",
       "0                Texas  7730337.0  \n",
       "1            Marquette  6796117.0  \n",
       "2    Boston University        NaN  \n",
       "3        Georgia State  1148640.0  \n",
       "4                  NaN  5000000.0  \n",
       "..                 ...        ...  \n",
       "453             Butler  2433333.0  \n",
       "454                NaN   900000.0  \n",
       "455                NaN  2900000.0  \n",
       "456             Kansas   947276.0  \n",
       "457                NaN        NaN  \n",
       "\n",
       "[458 rows x 9 columns]"
      ]
     },
     "execution_count": 8,
     "metadata": {},
     "output_type": "execute_result"
    }
   ],
   "source": [
    "nba.has"
   ]
  },
  {
   "cell_type": "code",
   "execution_count": 9,
   "id": "18aec784",
   "metadata": {},
   "outputs": [
    {
     "data": {
      "text/html": [
       "<div>\n",
       "<style scoped>\n",
       "    .dataframe tbody tr th:only-of-type {\n",
       "        vertical-align: middle;\n",
       "    }\n",
       "\n",
       "    .dataframe tbody tr th {\n",
       "        vertical-align: top;\n",
       "    }\n",
       "\n",
       "    .dataframe thead th {\n",
       "        text-align: right;\n",
       "    }\n",
       "</style>\n",
       "<table border=\"1\" class=\"dataframe\">\n",
       "  <thead>\n",
       "    <tr style=\"text-align: right;\">\n",
       "      <th></th>\n",
       "      <th>Name</th>\n",
       "      <th>Team</th>\n",
       "      <th>Number</th>\n",
       "      <th>Position</th>\n",
       "      <th>Age</th>\n",
       "      <th>Height</th>\n",
       "      <th>Weight</th>\n",
       "      <th>College</th>\n",
       "      <th>Salary</th>\n",
       "    </tr>\n",
       "  </thead>\n",
       "  <tbody>\n",
       "    <tr>\n",
       "      <th>453</th>\n",
       "      <td>Shelvin Mack</td>\n",
       "      <td>Utah Jazz</td>\n",
       "      <td>8.0</td>\n",
       "      <td>PG</td>\n",
       "      <td>26.0</td>\n",
       "      <td>6-3</td>\n",
       "      <td>203.0</td>\n",
       "      <td>Butler</td>\n",
       "      <td>2433333.0</td>\n",
       "    </tr>\n",
       "    <tr>\n",
       "      <th>454</th>\n",
       "      <td>Raul Neto</td>\n",
       "      <td>Utah Jazz</td>\n",
       "      <td>25.0</td>\n",
       "      <td>PG</td>\n",
       "      <td>24.0</td>\n",
       "      <td>6-1</td>\n",
       "      <td>179.0</td>\n",
       "      <td>NaN</td>\n",
       "      <td>900000.0</td>\n",
       "    </tr>\n",
       "    <tr>\n",
       "      <th>455</th>\n",
       "      <td>Tibor Pleiss</td>\n",
       "      <td>Utah Jazz</td>\n",
       "      <td>21.0</td>\n",
       "      <td>C</td>\n",
       "      <td>26.0</td>\n",
       "      <td>7-3</td>\n",
       "      <td>256.0</td>\n",
       "      <td>NaN</td>\n",
       "      <td>2900000.0</td>\n",
       "    </tr>\n",
       "    <tr>\n",
       "      <th>456</th>\n",
       "      <td>Jeff Withey</td>\n",
       "      <td>Utah Jazz</td>\n",
       "      <td>24.0</td>\n",
       "      <td>C</td>\n",
       "      <td>26.0</td>\n",
       "      <td>7-0</td>\n",
       "      <td>231.0</td>\n",
       "      <td>Kansas</td>\n",
       "      <td>947276.0</td>\n",
       "    </tr>\n",
       "    <tr>\n",
       "      <th>457</th>\n",
       "      <td>NaN</td>\n",
       "      <td>NaN</td>\n",
       "      <td>NaN</td>\n",
       "      <td>NaN</td>\n",
       "      <td>NaN</td>\n",
       "      <td>NaN</td>\n",
       "      <td>NaN</td>\n",
       "      <td>NaN</td>\n",
       "      <td>NaN</td>\n",
       "    </tr>\n",
       "  </tbody>\n",
       "</table>\n",
       "</div>"
      ],
      "text/plain": [
       "             Name       Team  Number Position   Age Height  Weight College  \\\n",
       "453  Shelvin Mack  Utah Jazz     8.0       PG  26.0    6-3   203.0  Butler   \n",
       "454     Raul Neto  Utah Jazz    25.0       PG  24.0    6-1   179.0     NaN   \n",
       "455  Tibor Pleiss  Utah Jazz    21.0        C  26.0    7-3   256.0     NaN   \n",
       "456   Jeff Withey  Utah Jazz    24.0        C  26.0    7-0   231.0  Kansas   \n",
       "457           NaN        NaN     NaN      NaN   NaN    NaN     NaN     NaN   \n",
       "\n",
       "        Salary  \n",
       "453  2433333.0  \n",
       "454   900000.0  \n",
       "455  2900000.0  \n",
       "456   947276.0  \n",
       "457        NaN  "
      ]
     },
     "execution_count": 9,
     "metadata": {},
     "output_type": "execute_result"
    }
   ],
   "source": [
    "nba.tail()"
   ]
  },
  {
   "cell_type": "code",
   "execution_count": 13,
   "id": "ac41a61d",
   "metadata": {},
   "outputs": [
    {
     "data": {
      "text/plain": [
       "pandas.core.indexes.range.RangeIndex"
      ]
     },
     "execution_count": 13,
     "metadata": {},
     "output_type": "execute_result"
    }
   ],
   "source": [
    "type(nba.index)"
   ]
  },
  {
   "cell_type": "code",
   "execution_count": 12,
   "id": "e206869d",
   "metadata": {},
   "outputs": [
    {
     "data": {
      "text/plain": [
       "numpy.ndarray"
      ]
     },
     "execution_count": 12,
     "metadata": {},
     "output_type": "execute_result"
    }
   ],
   "source": [
    "type(nba.values)"
   ]
  },
  {
   "cell_type": "code",
   "execution_count": 15,
   "id": "1bbe4562",
   "metadata": {},
   "outputs": [
    {
     "data": {
      "text/plain": [
       "Name         object\n",
       "Team         object\n",
       "Number      float64\n",
       "Position     object\n",
       "Age         float64\n",
       "Height       object\n",
       "Weight      float64\n",
       "College      object\n",
       "Salary      float64\n",
       "dtype: object"
      ]
     },
     "execution_count": 15,
     "metadata": {},
     "output_type": "execute_result"
    }
   ],
   "source": [
    "nba.dtypes"
   ]
  },
  {
   "cell_type": "code",
   "execution_count": 16,
   "id": "362cb98f",
   "metadata": {},
   "outputs": [
    {
     "data": {
      "text/plain": [
       "[RangeIndex(start=0, stop=458, step=1),\n",
       " Index(['Name', 'Team', 'Number', 'Position', 'Age', 'Height', 'Weight',\n",
       "        'College', 'Salary'],\n",
       "       dtype='object')]"
      ]
     },
     "execution_count": 16,
     "metadata": {},
     "output_type": "execute_result"
    }
   ],
   "source": [
    "nba.axes"
   ]
  },
  {
   "cell_type": "code",
   "execution_count": 18,
   "id": "5004e1e0",
   "metadata": {},
   "outputs": [
    {
     "name": "stdout",
     "output_type": "stream",
     "text": [
      "<class 'pandas.core.frame.DataFrame'>\n",
      "RangeIndex: 458 entries, 0 to 457\n",
      "Data columns (total 9 columns):\n",
      " #   Column    Non-Null Count  Dtype  \n",
      "---  ------    --------------  -----  \n",
      " 0   Name      457 non-null    object \n",
      " 1   Team      457 non-null    object \n",
      " 2   Number    457 non-null    float64\n",
      " 3   Position  457 non-null    object \n",
      " 4   Age       457 non-null    float64\n",
      " 5   Height    457 non-null    object \n",
      " 6   Weight    457 non-null    float64\n",
      " 7   College   373 non-null    object \n",
      " 8   Salary    446 non-null    float64\n",
      "dtypes: float64(4), object(5)\n",
      "memory usage: 32.3+ KB\n"
     ]
    }
   ],
   "source": [
    "nba.info()"
   ]
  },
  {
   "cell_type": "code",
   "execution_count": 19,
   "id": "fc249e79",
   "metadata": {},
   "outputs": [
    {
     "data": {
      "text/plain": [
       "0      Avery Bradley\n",
       "1        Jae Crowder\n",
       "2       John Holland\n",
       "3        R.J. Hunter\n",
       "4      Jonas Jerebko\n",
       "           ...      \n",
       "453     Shelvin Mack\n",
       "454        Raul Neto\n",
       "455     Tibor Pleiss\n",
       "456      Jeff Withey\n",
       "457              NaN\n",
       "Name: Name, Length: 458, dtype: object"
      ]
     },
     "execution_count": 19,
     "metadata": {},
     "output_type": "execute_result"
    }
   ],
   "source": [
    "nba.Name"
   ]
  },
  {
   "cell_type": "code",
   "execution_count": 4,
   "id": "af68fa7a",
   "metadata": {},
   "outputs": [],
   "source": [
    "cve = pd.read_excel(\"cvee.xlsx\")"
   ]
  },
  {
   "cell_type": "code",
   "execution_count": 5,
   "id": "1ea69bb6",
   "metadata": {},
   "outputs": [
    {
     "data": {
      "text/html": [
       "<div>\n",
       "<style scoped>\n",
       "    .dataframe tbody tr th:only-of-type {\n",
       "        vertical-align: middle;\n",
       "    }\n",
       "\n",
       "    .dataframe tbody tr th {\n",
       "        vertical-align: top;\n",
       "    }\n",
       "\n",
       "    .dataframe thead th {\n",
       "        text-align: right;\n",
       "    }\n",
       "</style>\n",
       "<table border=\"1\" class=\"dataframe\">\n",
       "  <thead>\n",
       "    <tr style=\"text-align: right;\">\n",
       "      <th></th>\n",
       "      <th>Reference Number</th>\n",
       "      <th>project</th>\n",
       "      <th>distro</th>\n",
       "    </tr>\n",
       "  </thead>\n",
       "  <tbody>\n",
       "    <tr>\n",
       "      <th>0</th>\n",
       "      <td>INC001</td>\n",
       "      <td>dev</td>\n",
       "      <td>buster</td>\n",
       "    </tr>\n",
       "    <tr>\n",
       "      <th>1</th>\n",
       "      <td>INC001</td>\n",
       "      <td>dev</td>\n",
       "      <td>buster</td>\n",
       "    </tr>\n",
       "    <tr>\n",
       "      <th>2</th>\n",
       "      <td>INC001</td>\n",
       "      <td>dev</td>\n",
       "      <td>buster</td>\n",
       "    </tr>\n",
       "    <tr>\n",
       "      <th>3</th>\n",
       "      <td>INC001</td>\n",
       "      <td>dev</td>\n",
       "      <td>buster</td>\n",
       "    </tr>\n",
       "    <tr>\n",
       "      <th>4</th>\n",
       "      <td>INC001</td>\n",
       "      <td>dev</td>\n",
       "      <td>buster</td>\n",
       "    </tr>\n",
       "    <tr>\n",
       "      <th>...</th>\n",
       "      <td>...</td>\n",
       "      <td>...</td>\n",
       "      <td>...</td>\n",
       "    </tr>\n",
       "    <tr>\n",
       "      <th>91</th>\n",
       "      <td>INC009</td>\n",
       "      <td>dev</td>\n",
       "      <td>bullseye</td>\n",
       "    </tr>\n",
       "    <tr>\n",
       "      <th>92</th>\n",
       "      <td>INC009</td>\n",
       "      <td>dev</td>\n",
       "      <td>buster</td>\n",
       "    </tr>\n",
       "    <tr>\n",
       "      <th>93</th>\n",
       "      <td>INC009</td>\n",
       "      <td>dev</td>\n",
       "      <td>alpine</td>\n",
       "    </tr>\n",
       "    <tr>\n",
       "      <th>94</th>\n",
       "      <td>INC009</td>\n",
       "      <td>dev</td>\n",
       "      <td>alpine</td>\n",
       "    </tr>\n",
       "    <tr>\n",
       "      <th>95</th>\n",
       "      <td>INC009</td>\n",
       "      <td>dev</td>\n",
       "      <td>alpine</td>\n",
       "    </tr>\n",
       "  </tbody>\n",
       "</table>\n",
       "<p>96 rows × 3 columns</p>\n",
       "</div>"
      ],
      "text/plain": [
       "   Reference Number project    distro\n",
       "0            INC001     dev    buster\n",
       "1            INC001     dev    buster\n",
       "2            INC001     dev    buster\n",
       "3            INC001     dev    buster\n",
       "4            INC001     dev    buster\n",
       "..              ...     ...       ...\n",
       "91           INC009     dev  bullseye\n",
       "92           INC009     dev    buster\n",
       "93           INC009     dev    alpine\n",
       "94           INC009     dev    alpine\n",
       "95           INC009     dev    alpine\n",
       "\n",
       "[96 rows x 3 columns]"
      ]
     },
     "execution_count": 5,
     "metadata": {},
     "output_type": "execute_result"
    }
   ],
   "source": [
    "cve"
   ]
  },
  {
   "cell_type": "markdown",
   "id": "ef8d283f",
   "metadata": {},
   "source": [
    "# value count for specific INCs "
   ]
  },
  {
   "cell_type": "code",
   "execution_count": 44,
   "id": "56e977f6",
   "metadata": {},
   "outputs": [
    {
     "data": {
      "text/plain": [
       "INC005    17\n",
       "INC002    15\n",
       "INC004    12\n",
       "INC007    11\n",
       "INC008    11\n",
       "INC009    11\n",
       "INC001    10\n",
       "INC003     8\n",
       "INC006     1\n",
       "Name: Reference Number, dtype: int64"
      ]
     },
     "execution_count": 44,
     "metadata": {},
     "output_type": "execute_result"
    }
   ],
   "source": [
    "cve[\"Reference Number\"].value_counts()"
   ]
  },
  {
   "cell_type": "code",
   "execution_count": 45,
   "id": "1b565c08",
   "metadata": {},
   "outputs": [
    {
     "data": {
      "text/html": [
       "<div>\n",
       "<style scoped>\n",
       "    .dataframe tbody tr th:only-of-type {\n",
       "        vertical-align: middle;\n",
       "    }\n",
       "\n",
       "    .dataframe tbody tr th {\n",
       "        vertical-align: top;\n",
       "    }\n",
       "\n",
       "    .dataframe thead th {\n",
       "        text-align: right;\n",
       "    }\n",
       "</style>\n",
       "<table border=\"1\" class=\"dataframe\">\n",
       "  <thead>\n",
       "    <tr style=\"text-align: right;\">\n",
       "      <th></th>\n",
       "      <th>Name</th>\n",
       "      <th>Team</th>\n",
       "      <th>Number</th>\n",
       "      <th>Position</th>\n",
       "      <th>Age</th>\n",
       "      <th>Height</th>\n",
       "      <th>Weight</th>\n",
       "      <th>College</th>\n",
       "      <th>Salary</th>\n",
       "    </tr>\n",
       "  </thead>\n",
       "  <tbody>\n",
       "    <tr>\n",
       "      <th>453</th>\n",
       "      <td>Shelvin Mack</td>\n",
       "      <td>Utah Jazz</td>\n",
       "      <td>8.0</td>\n",
       "      <td>PG</td>\n",
       "      <td>26.0</td>\n",
       "      <td>6-3</td>\n",
       "      <td>203.0</td>\n",
       "      <td>Butler</td>\n",
       "      <td>2433333.0</td>\n",
       "    </tr>\n",
       "    <tr>\n",
       "      <th>454</th>\n",
       "      <td>Raul Neto</td>\n",
       "      <td>Utah Jazz</td>\n",
       "      <td>25.0</td>\n",
       "      <td>PG</td>\n",
       "      <td>24.0</td>\n",
       "      <td>6-1</td>\n",
       "      <td>179.0</td>\n",
       "      <td>NaN</td>\n",
       "      <td>900000.0</td>\n",
       "    </tr>\n",
       "    <tr>\n",
       "      <th>455</th>\n",
       "      <td>Tibor Pleiss</td>\n",
       "      <td>Utah Jazz</td>\n",
       "      <td>21.0</td>\n",
       "      <td>C</td>\n",
       "      <td>26.0</td>\n",
       "      <td>7-3</td>\n",
       "      <td>256.0</td>\n",
       "      <td>NaN</td>\n",
       "      <td>2900000.0</td>\n",
       "    </tr>\n",
       "    <tr>\n",
       "      <th>456</th>\n",
       "      <td>Jeff Withey</td>\n",
       "      <td>Utah Jazz</td>\n",
       "      <td>24.0</td>\n",
       "      <td>C</td>\n",
       "      <td>26.0</td>\n",
       "      <td>7-0</td>\n",
       "      <td>231.0</td>\n",
       "      <td>Kansas</td>\n",
       "      <td>947276.0</td>\n",
       "    </tr>\n",
       "    <tr>\n",
       "      <th>457</th>\n",
       "      <td>NaN</td>\n",
       "      <td>NaN</td>\n",
       "      <td>NaN</td>\n",
       "      <td>NaN</td>\n",
       "      <td>NaN</td>\n",
       "      <td>NaN</td>\n",
       "      <td>NaN</td>\n",
       "      <td>NaN</td>\n",
       "      <td>NaN</td>\n",
       "    </tr>\n",
       "  </tbody>\n",
       "</table>\n",
       "</div>"
      ],
      "text/plain": [
       "             Name       Team  Number Position   Age Height  Weight College  \\\n",
       "453  Shelvin Mack  Utah Jazz     8.0       PG  26.0    6-3   203.0  Butler   \n",
       "454     Raul Neto  Utah Jazz    25.0       PG  24.0    6-1   179.0     NaN   \n",
       "455  Tibor Pleiss  Utah Jazz    21.0        C  26.0    7-3   256.0     NaN   \n",
       "456   Jeff Withey  Utah Jazz    24.0        C  26.0    7-0   231.0  Kansas   \n",
       "457           NaN        NaN     NaN      NaN   NaN    NaN     NaN     NaN   \n",
       "\n",
       "        Salary  \n",
       "453  2433333.0  \n",
       "454   900000.0  \n",
       "455  2900000.0  \n",
       "456   947276.0  \n",
       "457        NaN  "
      ]
     },
     "execution_count": 45,
     "metadata": {},
     "output_type": "execute_result"
    }
   ],
   "source": [
    "nba.tail()"
   ]
  },
  {
   "cell_type": "code",
   "execution_count": 49,
   "id": "823d38ff",
   "metadata": {
    "scrolled": true
   },
   "outputs": [
    {
     "data": {
      "text/html": [
       "<div>\n",
       "<style scoped>\n",
       "    .dataframe tbody tr th:only-of-type {\n",
       "        vertical-align: middle;\n",
       "    }\n",
       "\n",
       "    .dataframe tbody tr th {\n",
       "        vertical-align: top;\n",
       "    }\n",
       "\n",
       "    .dataframe thead th {\n",
       "        text-align: right;\n",
       "    }\n",
       "</style>\n",
       "<table border=\"1\" class=\"dataframe\">\n",
       "  <thead>\n",
       "    <tr style=\"text-align: right;\">\n",
       "      <th></th>\n",
       "      <th>Name</th>\n",
       "      <th>Team</th>\n",
       "      <th>Number</th>\n",
       "      <th>Position</th>\n",
       "      <th>Age</th>\n",
       "      <th>Height</th>\n",
       "      <th>Weight</th>\n",
       "      <th>College</th>\n",
       "      <th>Salary</th>\n",
       "    </tr>\n",
       "  </thead>\n",
       "  <tbody>\n",
       "    <tr>\n",
       "      <th>0</th>\n",
       "      <td>Avery Bradley</td>\n",
       "      <td>Boston Celtics</td>\n",
       "      <td>0.0</td>\n",
       "      <td>PG</td>\n",
       "      <td>25.0</td>\n",
       "      <td>6-2</td>\n",
       "      <td>180.0</td>\n",
       "      <td>Texas</td>\n",
       "      <td>7730337.0</td>\n",
       "    </tr>\n",
       "    <tr>\n",
       "      <th>1</th>\n",
       "      <td>Jae Crowder</td>\n",
       "      <td>Boston Celtics</td>\n",
       "      <td>99.0</td>\n",
       "      <td>SF</td>\n",
       "      <td>25.0</td>\n",
       "      <td>6-6</td>\n",
       "      <td>235.0</td>\n",
       "      <td>Marquette</td>\n",
       "      <td>6796117.0</td>\n",
       "    </tr>\n",
       "    <tr>\n",
       "      <th>2</th>\n",
       "      <td>John Holland</td>\n",
       "      <td>Boston Celtics</td>\n",
       "      <td>30.0</td>\n",
       "      <td>SG</td>\n",
       "      <td>27.0</td>\n",
       "      <td>6-5</td>\n",
       "      <td>205.0</td>\n",
       "      <td>Boston University</td>\n",
       "      <td>NaN</td>\n",
       "    </tr>\n",
       "    <tr>\n",
       "      <th>3</th>\n",
       "      <td>R.J. Hunter</td>\n",
       "      <td>Boston Celtics</td>\n",
       "      <td>28.0</td>\n",
       "      <td>SG</td>\n",
       "      <td>22.0</td>\n",
       "      <td>6-5</td>\n",
       "      <td>185.0</td>\n",
       "      <td>Georgia State</td>\n",
       "      <td>1148640.0</td>\n",
       "    </tr>\n",
       "    <tr>\n",
       "      <th>6</th>\n",
       "      <td>Jordan Mickey</td>\n",
       "      <td>Boston Celtics</td>\n",
       "      <td>55.0</td>\n",
       "      <td>PF</td>\n",
       "      <td>21.0</td>\n",
       "      <td>6-8</td>\n",
       "      <td>235.0</td>\n",
       "      <td>LSU</td>\n",
       "      <td>1170960.0</td>\n",
       "    </tr>\n",
       "    <tr>\n",
       "      <th>...</th>\n",
       "      <td>...</td>\n",
       "      <td>...</td>\n",
       "      <td>...</td>\n",
       "      <td>...</td>\n",
       "      <td>...</td>\n",
       "      <td>...</td>\n",
       "      <td>...</td>\n",
       "      <td>...</td>\n",
       "      <td>...</td>\n",
       "    </tr>\n",
       "    <tr>\n",
       "      <th>449</th>\n",
       "      <td>Rodney Hood</td>\n",
       "      <td>Utah Jazz</td>\n",
       "      <td>5.0</td>\n",
       "      <td>SG</td>\n",
       "      <td>23.0</td>\n",
       "      <td>6-8</td>\n",
       "      <td>206.0</td>\n",
       "      <td>Duke</td>\n",
       "      <td>1348440.0</td>\n",
       "    </tr>\n",
       "    <tr>\n",
       "      <th>451</th>\n",
       "      <td>Chris Johnson</td>\n",
       "      <td>Utah Jazz</td>\n",
       "      <td>23.0</td>\n",
       "      <td>SF</td>\n",
       "      <td>26.0</td>\n",
       "      <td>6-6</td>\n",
       "      <td>206.0</td>\n",
       "      <td>Dayton</td>\n",
       "      <td>981348.0</td>\n",
       "    </tr>\n",
       "    <tr>\n",
       "      <th>452</th>\n",
       "      <td>Trey Lyles</td>\n",
       "      <td>Utah Jazz</td>\n",
       "      <td>41.0</td>\n",
       "      <td>PF</td>\n",
       "      <td>20.0</td>\n",
       "      <td>6-10</td>\n",
       "      <td>234.0</td>\n",
       "      <td>Kentucky</td>\n",
       "      <td>2239800.0</td>\n",
       "    </tr>\n",
       "    <tr>\n",
       "      <th>453</th>\n",
       "      <td>Shelvin Mack</td>\n",
       "      <td>Utah Jazz</td>\n",
       "      <td>8.0</td>\n",
       "      <td>PG</td>\n",
       "      <td>26.0</td>\n",
       "      <td>6-3</td>\n",
       "      <td>203.0</td>\n",
       "      <td>Butler</td>\n",
       "      <td>2433333.0</td>\n",
       "    </tr>\n",
       "    <tr>\n",
       "      <th>456</th>\n",
       "      <td>Jeff Withey</td>\n",
       "      <td>Utah Jazz</td>\n",
       "      <td>24.0</td>\n",
       "      <td>C</td>\n",
       "      <td>26.0</td>\n",
       "      <td>7-0</td>\n",
       "      <td>231.0</td>\n",
       "      <td>Kansas</td>\n",
       "      <td>947276.0</td>\n",
       "    </tr>\n",
       "  </tbody>\n",
       "</table>\n",
       "<p>373 rows × 9 columns</p>\n",
       "</div>"
      ],
      "text/plain": [
       "              Name            Team  Number Position   Age Height  Weight  \\\n",
       "0    Avery Bradley  Boston Celtics     0.0       PG  25.0    6-2   180.0   \n",
       "1      Jae Crowder  Boston Celtics    99.0       SF  25.0    6-6   235.0   \n",
       "2     John Holland  Boston Celtics    30.0       SG  27.0    6-5   205.0   \n",
       "3      R.J. Hunter  Boston Celtics    28.0       SG  22.0    6-5   185.0   \n",
       "6    Jordan Mickey  Boston Celtics    55.0       PF  21.0    6-8   235.0   \n",
       "..             ...             ...     ...      ...   ...    ...     ...   \n",
       "449    Rodney Hood       Utah Jazz     5.0       SG  23.0    6-8   206.0   \n",
       "451  Chris Johnson       Utah Jazz    23.0       SF  26.0    6-6   206.0   \n",
       "452     Trey Lyles       Utah Jazz    41.0       PF  20.0   6-10   234.0   \n",
       "453   Shelvin Mack       Utah Jazz     8.0       PG  26.0    6-3   203.0   \n",
       "456    Jeff Withey       Utah Jazz    24.0        C  26.0    7-0   231.0   \n",
       "\n",
       "               College     Salary  \n",
       "0                Texas  7730337.0  \n",
       "1            Marquette  6796117.0  \n",
       "2    Boston University        NaN  \n",
       "3        Georgia State  1148640.0  \n",
       "6                  LSU  1170960.0  \n",
       "..                 ...        ...  \n",
       "449               Duke  1348440.0  \n",
       "451             Dayton   981348.0  \n",
       "452           Kentucky  2239800.0  \n",
       "453             Butler  2433333.0  \n",
       "456             Kansas   947276.0  \n",
       "\n",
       "[373 rows x 9 columns]"
      ]
     },
     "execution_count": 49,
     "metadata": {},
     "output_type": "execute_result"
    }
   ],
   "source": [
    "nba.dropna(how = \"all\")\n",
    "nba.dropna(subset = [\"College\"])"
   ]
  },
  {
   "cell_type": "code",
   "execution_count": 53,
   "id": "9c70b4b0",
   "metadata": {
    "collapsed": true
   },
   "outputs": [
    {
     "data": {
      "text/html": [
       "<div>\n",
       "<style scoped>\n",
       "    .dataframe tbody tr th:only-of-type {\n",
       "        vertical-align: middle;\n",
       "    }\n",
       "\n",
       "    .dataframe tbody tr th {\n",
       "        vertical-align: top;\n",
       "    }\n",
       "\n",
       "    .dataframe thead th {\n",
       "        text-align: right;\n",
       "    }\n",
       "</style>\n",
       "<table border=\"1\" class=\"dataframe\">\n",
       "  <thead>\n",
       "    <tr style=\"text-align: right;\">\n",
       "      <th></th>\n",
       "      <th>Name</th>\n",
       "      <th>Team</th>\n",
       "      <th>Number</th>\n",
       "      <th>Position</th>\n",
       "      <th>Age</th>\n",
       "      <th>Height</th>\n",
       "      <th>Weight</th>\n",
       "      <th>College</th>\n",
       "      <th>Salary</th>\n",
       "    </tr>\n",
       "  </thead>\n",
       "  <tbody>\n",
       "    <tr>\n",
       "      <th>0</th>\n",
       "      <td>Avery Bradley</td>\n",
       "      <td>Boston Celtics</td>\n",
       "      <td>0.0</td>\n",
       "      <td>PG</td>\n",
       "      <td>25.0</td>\n",
       "      <td>6-2</td>\n",
       "      <td>180.0</td>\n",
       "      <td>Texas</td>\n",
       "      <td>7730337.0</td>\n",
       "    </tr>\n",
       "    <tr>\n",
       "      <th>1</th>\n",
       "      <td>Jae Crowder</td>\n",
       "      <td>Boston Celtics</td>\n",
       "      <td>99.0</td>\n",
       "      <td>SF</td>\n",
       "      <td>25.0</td>\n",
       "      <td>6-6</td>\n",
       "      <td>235.0</td>\n",
       "      <td>Marquette</td>\n",
       "      <td>6796117.0</td>\n",
       "    </tr>\n",
       "    <tr>\n",
       "      <th>3</th>\n",
       "      <td>R.J. Hunter</td>\n",
       "      <td>Boston Celtics</td>\n",
       "      <td>28.0</td>\n",
       "      <td>SG</td>\n",
       "      <td>22.0</td>\n",
       "      <td>6-5</td>\n",
       "      <td>185.0</td>\n",
       "      <td>Georgia State</td>\n",
       "      <td>1148640.0</td>\n",
       "    </tr>\n",
       "    <tr>\n",
       "      <th>6</th>\n",
       "      <td>Jordan Mickey</td>\n",
       "      <td>Boston Celtics</td>\n",
       "      <td>55.0</td>\n",
       "      <td>PF</td>\n",
       "      <td>21.0</td>\n",
       "      <td>6-8</td>\n",
       "      <td>235.0</td>\n",
       "      <td>LSU</td>\n",
       "      <td>1170960.0</td>\n",
       "    </tr>\n",
       "    <tr>\n",
       "      <th>7</th>\n",
       "      <td>Kelly Olynyk</td>\n",
       "      <td>Boston Celtics</td>\n",
       "      <td>41.0</td>\n",
       "      <td>C</td>\n",
       "      <td>25.0</td>\n",
       "      <td>7-0</td>\n",
       "      <td>238.0</td>\n",
       "      <td>Gonzaga</td>\n",
       "      <td>2165160.0</td>\n",
       "    </tr>\n",
       "    <tr>\n",
       "      <th>...</th>\n",
       "      <td>...</td>\n",
       "      <td>...</td>\n",
       "      <td>...</td>\n",
       "      <td>...</td>\n",
       "      <td>...</td>\n",
       "      <td>...</td>\n",
       "      <td>...</td>\n",
       "      <td>...</td>\n",
       "      <td>...</td>\n",
       "    </tr>\n",
       "    <tr>\n",
       "      <th>449</th>\n",
       "      <td>Rodney Hood</td>\n",
       "      <td>Utah Jazz</td>\n",
       "      <td>5.0</td>\n",
       "      <td>SG</td>\n",
       "      <td>23.0</td>\n",
       "      <td>6-8</td>\n",
       "      <td>206.0</td>\n",
       "      <td>Duke</td>\n",
       "      <td>1348440.0</td>\n",
       "    </tr>\n",
       "    <tr>\n",
       "      <th>451</th>\n",
       "      <td>Chris Johnson</td>\n",
       "      <td>Utah Jazz</td>\n",
       "      <td>23.0</td>\n",
       "      <td>SF</td>\n",
       "      <td>26.0</td>\n",
       "      <td>6-6</td>\n",
       "      <td>206.0</td>\n",
       "      <td>Dayton</td>\n",
       "      <td>981348.0</td>\n",
       "    </tr>\n",
       "    <tr>\n",
       "      <th>452</th>\n",
       "      <td>Trey Lyles</td>\n",
       "      <td>Utah Jazz</td>\n",
       "      <td>41.0</td>\n",
       "      <td>PF</td>\n",
       "      <td>20.0</td>\n",
       "      <td>6-10</td>\n",
       "      <td>234.0</td>\n",
       "      <td>Kentucky</td>\n",
       "      <td>2239800.0</td>\n",
       "    </tr>\n",
       "    <tr>\n",
       "      <th>453</th>\n",
       "      <td>Shelvin Mack</td>\n",
       "      <td>Utah Jazz</td>\n",
       "      <td>8.0</td>\n",
       "      <td>PG</td>\n",
       "      <td>26.0</td>\n",
       "      <td>6-3</td>\n",
       "      <td>203.0</td>\n",
       "      <td>Butler</td>\n",
       "      <td>2433333.0</td>\n",
       "    </tr>\n",
       "    <tr>\n",
       "      <th>456</th>\n",
       "      <td>Jeff Withey</td>\n",
       "      <td>Utah Jazz</td>\n",
       "      <td>24.0</td>\n",
       "      <td>C</td>\n",
       "      <td>26.0</td>\n",
       "      <td>7-0</td>\n",
       "      <td>231.0</td>\n",
       "      <td>Kansas</td>\n",
       "      <td>947276.0</td>\n",
       "    </tr>\n",
       "  </tbody>\n",
       "</table>\n",
       "<p>364 rows × 9 columns</p>\n",
       "</div>"
      ],
      "text/plain": [
       "              Name            Team  Number Position   Age Height  Weight  \\\n",
       "0    Avery Bradley  Boston Celtics     0.0       PG  25.0    6-2   180.0   \n",
       "1      Jae Crowder  Boston Celtics    99.0       SF  25.0    6-6   235.0   \n",
       "3      R.J. Hunter  Boston Celtics    28.0       SG  22.0    6-5   185.0   \n",
       "6    Jordan Mickey  Boston Celtics    55.0       PF  21.0    6-8   235.0   \n",
       "7     Kelly Olynyk  Boston Celtics    41.0        C  25.0    7-0   238.0   \n",
       "..             ...             ...     ...      ...   ...    ...     ...   \n",
       "449    Rodney Hood       Utah Jazz     5.0       SG  23.0    6-8   206.0   \n",
       "451  Chris Johnson       Utah Jazz    23.0       SF  26.0    6-6   206.0   \n",
       "452     Trey Lyles       Utah Jazz    41.0       PF  20.0   6-10   234.0   \n",
       "453   Shelvin Mack       Utah Jazz     8.0       PG  26.0    6-3   203.0   \n",
       "456    Jeff Withey       Utah Jazz    24.0        C  26.0    7-0   231.0   \n",
       "\n",
       "           College     Salary  \n",
       "0            Texas  7730337.0  \n",
       "1        Marquette  6796117.0  \n",
       "3    Georgia State  1148640.0  \n",
       "6              LSU  1170960.0  \n",
       "7          Gonzaga  2165160.0  \n",
       "..             ...        ...  \n",
       "449           Duke  1348440.0  \n",
       "451         Dayton   981348.0  \n",
       "452       Kentucky  2239800.0  \n",
       "453         Butler  2433333.0  \n",
       "456         Kansas   947276.0  \n",
       "\n",
       "[364 rows x 9 columns]"
      ]
     },
     "execution_count": 53,
     "metadata": {},
     "output_type": "execute_result"
    }
   ],
   "source": [
    "nba.copy().dropna()"
   ]
  },
  {
   "cell_type": "code",
   "execution_count": 54,
   "id": "e82f9d83",
   "metadata": {},
   "outputs": [
    {
     "data": {
      "text/html": [
       "<div>\n",
       "<style scoped>\n",
       "    .dataframe tbody tr th:only-of-type {\n",
       "        vertical-align: middle;\n",
       "    }\n",
       "\n",
       "    .dataframe tbody tr th {\n",
       "        vertical-align: top;\n",
       "    }\n",
       "\n",
       "    .dataframe thead th {\n",
       "        text-align: right;\n",
       "    }\n",
       "</style>\n",
       "<table border=\"1\" class=\"dataframe\">\n",
       "  <thead>\n",
       "    <tr style=\"text-align: right;\">\n",
       "      <th></th>\n",
       "      <th>Name</th>\n",
       "      <th>Team</th>\n",
       "      <th>Number</th>\n",
       "      <th>Position</th>\n",
       "      <th>Age</th>\n",
       "      <th>Height</th>\n",
       "      <th>Weight</th>\n",
       "      <th>College</th>\n",
       "      <th>Salary</th>\n",
       "    </tr>\n",
       "  </thead>\n",
       "  <tbody>\n",
       "    <tr>\n",
       "      <th>453</th>\n",
       "      <td>Shelvin Mack</td>\n",
       "      <td>Utah Jazz</td>\n",
       "      <td>8.0</td>\n",
       "      <td>PG</td>\n",
       "      <td>26.0</td>\n",
       "      <td>6-3</td>\n",
       "      <td>203.0</td>\n",
       "      <td>Butler</td>\n",
       "      <td>2433333.0</td>\n",
       "    </tr>\n",
       "    <tr>\n",
       "      <th>454</th>\n",
       "      <td>Raul Neto</td>\n",
       "      <td>Utah Jazz</td>\n",
       "      <td>25.0</td>\n",
       "      <td>PG</td>\n",
       "      <td>24.0</td>\n",
       "      <td>6-1</td>\n",
       "      <td>179.0</td>\n",
       "      <td>NaN</td>\n",
       "      <td>900000.0</td>\n",
       "    </tr>\n",
       "    <tr>\n",
       "      <th>455</th>\n",
       "      <td>Tibor Pleiss</td>\n",
       "      <td>Utah Jazz</td>\n",
       "      <td>21.0</td>\n",
       "      <td>C</td>\n",
       "      <td>26.0</td>\n",
       "      <td>7-3</td>\n",
       "      <td>256.0</td>\n",
       "      <td>NaN</td>\n",
       "      <td>2900000.0</td>\n",
       "    </tr>\n",
       "    <tr>\n",
       "      <th>456</th>\n",
       "      <td>Jeff Withey</td>\n",
       "      <td>Utah Jazz</td>\n",
       "      <td>24.0</td>\n",
       "      <td>C</td>\n",
       "      <td>26.0</td>\n",
       "      <td>7-0</td>\n",
       "      <td>231.0</td>\n",
       "      <td>Kansas</td>\n",
       "      <td>947276.0</td>\n",
       "    </tr>\n",
       "    <tr>\n",
       "      <th>457</th>\n",
       "      <td>NaN</td>\n",
       "      <td>NaN</td>\n",
       "      <td>NaN</td>\n",
       "      <td>NaN</td>\n",
       "      <td>NaN</td>\n",
       "      <td>NaN</td>\n",
       "      <td>NaN</td>\n",
       "      <td>NaN</td>\n",
       "      <td>NaN</td>\n",
       "    </tr>\n",
       "  </tbody>\n",
       "</table>\n",
       "</div>"
      ],
      "text/plain": [
       "             Name       Team  Number Position   Age Height  Weight College  \\\n",
       "453  Shelvin Mack  Utah Jazz     8.0       PG  26.0    6-3   203.0  Butler   \n",
       "454     Raul Neto  Utah Jazz    25.0       PG  24.0    6-1   179.0     NaN   \n",
       "455  Tibor Pleiss  Utah Jazz    21.0        C  26.0    7-3   256.0     NaN   \n",
       "456   Jeff Withey  Utah Jazz    24.0        C  26.0    7-0   231.0  Kansas   \n",
       "457           NaN        NaN     NaN      NaN   NaN    NaN     NaN     NaN   \n",
       "\n",
       "        Salary  \n",
       "453  2433333.0  \n",
       "454   900000.0  \n",
       "455  2900000.0  \n",
       "456   947276.0  \n",
       "457        NaN  "
      ]
     },
     "execution_count": 54,
     "metadata": {},
     "output_type": "execute_result"
    }
   ],
   "source": [
    "nba.tail()"
   ]
  },
  {
   "cell_type": "code",
   "execution_count": 58,
   "id": "c6f4af09",
   "metadata": {},
   "outputs": [
    {
     "data": {
      "text/plain": [
       "0     INC001\n",
       "1     INC001\n",
       "2     INC001\n",
       "3     INC001\n",
       "4     INC001\n",
       "       ...  \n",
       "91    INC009\n",
       "92    INC009\n",
       "93    INC009\n",
       "94    INC009\n",
       "95    INC009\n",
       "Name: Reference Number, Length: 96, dtype: category\n",
       "Categories (9, object): ['INC001', 'INC002', 'INC003', 'INC004', ..., 'INC006', 'INC007', 'INC008', 'INC009']"
      ]
     },
     "execution_count": 58,
     "metadata": {},
     "output_type": "execute_result"
    }
   ],
   "source": [
    "cve[\"Reference Number\"].astype(\"category\")"
   ]
  },
  {
   "cell_type": "code",
   "execution_count": 60,
   "id": "69415c1d",
   "metadata": {},
   "outputs": [
    {
     "data": {
      "text/html": [
       "<div>\n",
       "<style scoped>\n",
       "    .dataframe tbody tr th:only-of-type {\n",
       "        vertical-align: middle;\n",
       "    }\n",
       "\n",
       "    .dataframe tbody tr th {\n",
       "        vertical-align: top;\n",
       "    }\n",
       "\n",
       "    .dataframe thead th {\n",
       "        text-align: right;\n",
       "    }\n",
       "</style>\n",
       "<table border=\"1\" class=\"dataframe\">\n",
       "  <thead>\n",
       "    <tr style=\"text-align: right;\">\n",
       "      <th></th>\n",
       "      <th>Reference Number</th>\n",
       "      <th>project</th>\n",
       "      <th>distro</th>\n",
       "    </tr>\n",
       "  </thead>\n",
       "  <tbody>\n",
       "    <tr>\n",
       "      <th>11</th>\n",
       "      <td>INC002</td>\n",
       "      <td>dev</td>\n",
       "      <td>alpine</td>\n",
       "    </tr>\n",
       "    <tr>\n",
       "      <th>12</th>\n",
       "      <td>INC002</td>\n",
       "      <td>dev</td>\n",
       "      <td>alpine</td>\n",
       "    </tr>\n",
       "    <tr>\n",
       "      <th>13</th>\n",
       "      <td>INC002</td>\n",
       "      <td>dev</td>\n",
       "      <td>alpine</td>\n",
       "    </tr>\n",
       "    <tr>\n",
       "      <th>14</th>\n",
       "      <td>INC002</td>\n",
       "      <td>dev</td>\n",
       "      <td>alpine</td>\n",
       "    </tr>\n",
       "    <tr>\n",
       "      <th>74</th>\n",
       "      <td>INC008</td>\n",
       "      <td>dev</td>\n",
       "      <td>alpine</td>\n",
       "    </tr>\n",
       "    <tr>\n",
       "      <th>...</th>\n",
       "      <td>...</td>\n",
       "      <td>...</td>\n",
       "      <td>...</td>\n",
       "    </tr>\n",
       "    <tr>\n",
       "      <th>52</th>\n",
       "      <td>INC005</td>\n",
       "      <td>uat</td>\n",
       "      <td>buster</td>\n",
       "    </tr>\n",
       "    <tr>\n",
       "      <th>53</th>\n",
       "      <td>INC005</td>\n",
       "      <td>uat</td>\n",
       "      <td>buster</td>\n",
       "    </tr>\n",
       "    <tr>\n",
       "      <th>54</th>\n",
       "      <td>INC005</td>\n",
       "      <td>uat</td>\n",
       "      <td>buster</td>\n",
       "    </tr>\n",
       "    <tr>\n",
       "      <th>55</th>\n",
       "      <td>INC005</td>\n",
       "      <td>uat</td>\n",
       "      <td>buster</td>\n",
       "    </tr>\n",
       "    <tr>\n",
       "      <th>56</th>\n",
       "      <td>INC005</td>\n",
       "      <td>uat</td>\n",
       "      <td>buster</td>\n",
       "    </tr>\n",
       "  </tbody>\n",
       "</table>\n",
       "<p>96 rows × 3 columns</p>\n",
       "</div>"
      ],
      "text/plain": [
       "   Reference Number project  distro\n",
       "11           INC002     dev  alpine\n",
       "12           INC002     dev  alpine\n",
       "13           INC002     dev  alpine\n",
       "14           INC002     dev  alpine\n",
       "74           INC008     dev  alpine\n",
       "..              ...     ...     ...\n",
       "52           INC005     uat  buster\n",
       "53           INC005     uat  buster\n",
       "54           INC005     uat  buster\n",
       "55           INC005     uat  buster\n",
       "56           INC005     uat  buster\n",
       "\n",
       "[96 rows x 3 columns]"
      ]
     },
     "execution_count": 60,
     "metadata": {},
     "output_type": "execute_result"
    }
   ],
   "source": [
    "cve.sort_values(by = [\"project\", \"distro\"])"
   ]
  },
  {
   "cell_type": "code",
   "execution_count": 69,
   "id": "12c8c482",
   "metadata": {},
   "outputs": [],
   "source": [
    "df1 = cve[\"distro\"] == \"buster\""
   ]
  },
  {
   "cell_type": "code",
   "execution_count": 70,
   "id": "740fd3a4",
   "metadata": {},
   "outputs": [],
   "source": [
    "df2 = cve[\"project\"] == \"dev\""
   ]
  },
  {
   "cell_type": "code",
   "execution_count": 66,
   "id": "16231c1a",
   "metadata": {},
   "outputs": [
    {
     "data": {
      "text/plain": [
       "array(['dev', nan, 'prd', 'uat'], dtype=object)"
      ]
     },
     "execution_count": 66,
     "metadata": {},
     "output_type": "execute_result"
    }
   ],
   "source": [
    "df1[\"project\"].unique()"
   ]
  },
  {
   "cell_type": "code",
   "execution_count": 99,
   "id": "7484221b",
   "metadata": {},
   "outputs": [
    {
     "data": {
      "text/plain": [
       "['INC001',\n",
       " 'INC002',\n",
       " 'INC003',\n",
       " 'INC004',\n",
       " 'INC005',\n",
       " 'INC006',\n",
       " 'INC007',\n",
       " 'INC008',\n",
       " 'INC009']"
      ]
     },
     "execution_count": 99,
     "metadata": {},
     "output_type": "execute_result"
    }
   ],
   "source": [
    "cve[\"Reference Number\"].unique()\n",
    "inc = ['INC001', 'INC002', 'INC003', 'INC004', 'INC005', 'INC006',\n",
    "       'INC007', 'INC008', 'INC009']\n",
    "inc"
   ]
  },
  {
   "cell_type": "markdown",
   "id": "8a1ce874",
   "metadata": {},
   "source": [
    "# final code for extracting only buster related CVEs (dev)"
   ]
  },
  {
   "cell_type": "code",
   "execution_count": 37,
   "id": "4c3bdb47",
   "metadata": {},
   "outputs": [
    {
     "name": "stdout",
     "output_type": "stream",
     "text": [
      "['INC003', 'INC004', 'INC006', 'INC009']\n"
     ]
    }
   ],
   "source": [
    "#fetching INCs related to buster and dev\n",
    "df = cve[cve[\"distro\"].isin([\"buster\"]) & cve[\"project\"].isin([\"dev\",\"uat\"])]\n",
    "inc = df[\"Reference Number\"].unique()\n",
    "\n",
    "#fetching INCs related to non-buster and non-dev\n",
    "df2 = cve[cve[\"project\"].isin([\"prd\"]) & cve[\"distro\"].isin([\"alpine\",\"bullseye\",\"buster\"])]\n",
    "inc2 = df2[\"Reference Number\"].unique()\n",
    "\n",
    "#difference between above two lists\n",
    "dif1 = np.setdiff1d(inc, inc2)\n",
    "dif2 = np.setdiff1d(inc2, inc)\n",
    "temp3 = np.concatenate((dif1, dif2))\n",
    "print(list(temp3))"
   ]
  },
  {
   "cell_type": "code",
   "execution_count": 40,
   "id": "9952fd0f",
   "metadata": {},
   "outputs": [
    {
     "data": {
      "text/plain": [
       "(array(['INC001', 'INC002', 'INC003', 'INC004', 'INC005', 'INC006',\n",
       "        'INC009'], dtype=object),\n",
       " array(['INC001', 'INC002', 'INC005'], dtype=object),\n",
       " array(['INC003', 'INC004', 'INC006', 'INC009'], dtype=object))"
      ]
     },
     "execution_count": 40,
     "metadata": {},
     "output_type": "execute_result"
    }
   ],
   "source": [
    "inc, inc2, dif1"
   ]
  },
  {
   "cell_type": "code",
   "execution_count": 33,
   "id": "9a11eda5",
   "metadata": {},
   "outputs": [],
   "source": [
    "#fetching INCs related to buster and dev\n",
    "df = cve[cve[\"distro\"].isin([\"buster\"]) & cve[\"project\"].isin([\"dev\",\"uat\"])]\n",
    "inc = df[\"Reference Number\"].unique()\n",
    "\n",
    "#fetching INCs related to non-buster and non-dev\n",
    "df2 = cve[cve[\"Reference Number\"].isin(inc) & cve[\"project\"].isin([\"prd\"]) & cve[\"distro\"].isin([\"alpine\",\"bullseye\",\"buster\"])]\n",
    "inc2 = df2[\"Reference Number\"].unique()\n"
   ]
  },
  {
   "cell_type": "code",
   "execution_count": 35,
   "id": "2290d777",
   "metadata": {},
   "outputs": [
    {
     "data": {
      "text/plain": [
       "(array(['INC001', 'INC002', 'INC003', 'INC004', 'INC005', 'INC006',\n",
       "        'INC009'], dtype=object),\n",
       " array(['INC001', 'INC002', 'INC005'], dtype=object))"
      ]
     },
     "execution_count": 35,
     "metadata": {},
     "output_type": "execute_result"
    }
   ],
   "source": [
    "inc, inc2"
   ]
  },
  {
   "cell_type": "code",
   "execution_count": 32,
   "id": "f0750f1f",
   "metadata": {},
   "outputs": [
    {
     "data": {
      "text/plain": [
       "(array(['INC003', 'INC004', 'INC006', 'INC009'], dtype=object),\n",
       " array([], dtype=object))"
      ]
     },
     "execution_count": 32,
     "metadata": {},
     "output_type": "execute_result"
    }
   ],
   "source": [
    "dif1, dif2"
   ]
  },
  {
   "cell_type": "code",
   "execution_count": 74,
   "id": "9ec6ea6b",
   "metadata": {},
   "outputs": [
    {
     "ename": "TypeError",
     "evalue": "unsupported operand type(s) for &: 'list' and 'str'",
     "output_type": "error",
     "traceback": [
      "\u001b[0;31m---------------------------------------------------------------------------\u001b[0m",
      "\u001b[0;31mTypeError\u001b[0m                                 Traceback (most recent call last)",
      "Input \u001b[0;32mIn [74]\u001b[0m, in \u001b[0;36m<cell line: 1>\u001b[0;34m()\u001b[0m\n\u001b[0;32m----> 1\u001b[0m cve\u001b[38;5;241m.\u001b[39mwhere(\u001b[38;5;124m\"\u001b[39m\u001b[38;5;124mproject\u001b[39m\u001b[38;5;124m\"\u001b[39m \u001b[38;5;129;01min\u001b[39;00m \u001b[43m[\u001b[49m\u001b[38;5;124;43m\"\u001b[39;49m\u001b[38;5;124;43mprd\u001b[39;49m\u001b[38;5;124;43m\"\u001b[39;49m\u001b[43m,\u001b[49m\u001b[43m \u001b[49m\u001b[38;5;124;43m\"\u001b[39;49m\u001b[38;5;124;43muat\u001b[39;49m\u001b[38;5;124;43m\"\u001b[39;49m\u001b[43m]\u001b[49m\u001b[43m \u001b[49m\u001b[38;5;241;43m&\u001b[39;49m\u001b[43m \u001b[49m\u001b[38;5;124;43m\"\u001b[39;49m\u001b[38;5;124;43mReference Number\u001b[39;49m\u001b[38;5;124;43m\"\u001b[39;49m \u001b[38;5;129;01min\u001b[39;00m [\u001b[38;5;124m'\u001b[39m\u001b[38;5;124mINC001\u001b[39m\u001b[38;5;124m'\u001b[39m, \u001b[38;5;124m'\u001b[39m\u001b[38;5;124mINC002\u001b[39m\u001b[38;5;124m'\u001b[39m, \u001b[38;5;124m'\u001b[39m\u001b[38;5;124mINC003\u001b[39m\u001b[38;5;124m'\u001b[39m, \u001b[38;5;124m'\u001b[39m\u001b[38;5;124mINC004\u001b[39m\u001b[38;5;124m'\u001b[39m, \u001b[38;5;124m'\u001b[39m\u001b[38;5;124mINC006\u001b[39m\u001b[38;5;124m'\u001b[39m, \u001b[38;5;124m'\u001b[39m\u001b[38;5;124mINC009\u001b[39m\u001b[38;5;124m'\u001b[39m])\n",
      "\u001b[0;31mTypeError\u001b[0m: unsupported operand type(s) for &: 'list' and 'str'"
     ]
    }
   ],
   "source": [
    "cve.where(\"project\" in [\"prd\", \"uat\"] & \"Reference Number\" in ['INC001', 'INC002', 'INC003', 'INC004', 'INC006', 'INC009'])"
   ]
  },
  {
   "cell_type": "code",
   "execution_count": 76,
   "id": "16b511f6",
   "metadata": {},
   "outputs": [
    {
     "data": {
      "text/plain": [
       "4"
      ]
     },
     "execution_count": 76,
     "metadata": {},
     "output_type": "execute_result"
    }
   ],
   "source": [
    "int(9/2)\n",
    "\n",
    "7569%100\n",
    "\n",
    "784%100\n",
    "\n",
    "dict1 = { 0: [10], 1: [1,9], 4: [2,8], 5:[5], 6: [4,6], 9: [3,7] }\n",
    "\n",
    "dict1\n",
    "\n",
    "dict1[1][0]\n",
    "\n",
    "5//2\n",
    "\n",
    "13*0.5"
   ]
  },
  {
   "cell_type": "markdown",
   "id": "487b04c1",
   "metadata": {},
   "source": [
    "# sqrt(x) leetcode#69"
   ]
  },
  {
   "cell_type": "code",
   "execution_count": 144,
   "id": "df364148",
   "metadata": {},
   "outputs": [
    {
     "name": "stdout",
     "output_type": "stream",
     "text": [
      "3\n"
     ]
    }
   ],
   "source": [
    "x=13\n",
    "x_n = 0.5*x # 6.5\n",
    "change = 1\n",
    "while change > 0.1:\n",
    "    next_n= 0.5* (x_n + x/x_n)\n",
    "    change = abs(x_n - next_n)\n",
    "    x_n = next_n\n",
    "print(int(x_n))\n",
    "    "
   ]
  },
  {
   "cell_type": "code",
   "execution_count": 155,
   "id": "07b3e2d2",
   "metadata": {},
   "outputs": [
    {
     "name": "stdout",
     "output_type": "stream",
     "text": [
      "1\n",
      "2\n",
      "3\n"
     ]
    }
   ],
   "source": [
    "class Node:\n",
    "\t# Function to initialise the node object\n",
    "\tdef __init__(self, data):\n",
    "\t\tself.data = data # Assign data\n",
    "\t\tself.next = None # Initialize next as null\n",
    "\n",
    "\n",
    "# Linked List class contains a Node object\n",
    "class LinkedList:\n",
    "\t# Function to initialize head\n",
    "\tdef __init__(self):\n",
    "\t\tself.head = None\n",
    "\n",
    "\t# This function prints contents of linked list\n",
    "\t# starting from head\n",
    "\tdef printList(self):\n",
    "\t\ttemp = self.head\n",
    "\t\twhile (temp):\n",
    "\t\t\tprint(temp.data)\n",
    "\t\t\ttemp = temp.next\n",
    "\n",
    "\n",
    "# Code execution starts here\n",
    "if __name__ == '__main__':\n",
    "\n",
    "\t# Start with the empty list\n",
    "\tllist = LinkedList()\n",
    "\n",
    "\tllist.head = Node(1)\n",
    "\tsecond = Node(2)\n",
    "\tthird = Node(3)\n",
    "\n",
    "\tllist.head.next = second # Link first node with second\n",
    "\tsecond.next = third # Link second node with the third node\n",
    "\n",
    "\tllist.printList()\n"
   ]
  },
  {
   "cell_type": "code",
   "execution_count": 160,
   "id": "70fe2a98",
   "metadata": {},
   "outputs": [
    {
     "name": "stdout",
     "output_type": "stream",
     "text": [
      "1\n",
      "2\n",
      "3\n"
     ]
    }
   ],
   "source": [
    "class Node:\n",
    "    def __init__(self,data):\n",
    "        self.data = data\n",
    "        self.next = None\n",
    "\n",
    "class LinkedList:\n",
    "    def __init__(self):\n",
    "        self.head = None\n",
    "    def printList(self):\n",
    "        temp = self.head\n",
    "        while (temp):\n",
    "            print(temp.data)\n",
    "            temp = temp.next\n",
    "####\n",
    "\n",
    "llist = LinkedList()\n",
    "\n",
    "llist.head = Node(1)\n",
    "second = Node(2)\n",
    "third = Node(3)\n",
    "\n",
    "llist.head.next = second # Link first node with second\n",
    "second.next = third # Link second node with the third node\n",
    "\n",
    "llist.printList()"
   ]
  },
  {
   "cell_type": "code",
   "execution_count": 166,
   "id": "7fae5f42",
   "metadata": {},
   "outputs": [
    {
     "data": {
      "text/plain": [
       "<__main__.Node at 0x7fb828af0580>"
      ]
     },
     "execution_count": 166,
     "metadata": {},
     "output_type": "execute_result"
    }
   ],
   "source": [
    "second.next"
   ]
  },
  {
   "cell_type": "markdown",
   "id": "3865fbd7",
   "metadata": {},
   "source": [
    "# sliding window- max sum of subarrays"
   ]
  },
  {
   "cell_type": "code",
   "execution_count": 24,
   "id": "b942179c",
   "metadata": {},
   "outputs": [
    {
     "name": "stdout",
     "output_type": "stream",
     "text": [
      "21\n"
     ]
    }
   ],
   "source": [
    "nums = [2,5,6,1,4,10,5,6,8]\n",
    "k = 3\n",
    "best = now = sum(nums[:k])\n",
    "for i in range(k,len(nums)):\n",
    "    now += nums[i] - nums[i-k]\n",
    "    if now>best:\n",
    "        best = now\n",
    "print(best)"
   ]
  },
  {
   "cell_type": "code",
   "execution_count": 22,
   "id": "89721f52",
   "metadata": {},
   "outputs": [
    {
     "name": "stdout",
     "output_type": "stream",
     "text": [
      "0.0\n"
     ]
    }
   ],
   "source": [
    "x = [-1]\n",
    "sum1 = 0\n",
    "ans = 0\n",
    "k = 1\n",
    "j = 0\n",
    "i = 0\n",
    "while j < len(x):\n",
    "    sum1 = sum1+ x[j]\n",
    "    if j-i+1 < k:\n",
    "        j += 1\n",
    "    elif j-i+1 == k:\n",
    "        ans = max(ans, sum1)\n",
    "        sum1 = sum1-x[i]\n",
    "        i += 1\n",
    "        j += 1\n",
    "print(ans/4) "
   ]
  },
  {
   "cell_type": "code",
   "execution_count": 37,
   "id": "100d0217",
   "metadata": {},
   "outputs": [
    {
     "name": "stdout",
     "output_type": "stream",
     "text": [
      "hello hello\n"
     ]
    }
   ],
   "source": [
    "with open('readme.txt', 'r') as file:\n",
    "    print(file.read())"
   ]
  },
  {
   "cell_type": "markdown",
   "id": "cfdedaaa",
   "metadata": {},
   "source": [
    "# Variable size - sliding window"
   ]
  },
  {
   "cell_type": "code",
   "execution_count": 97,
   "id": "9a0b204d",
   "metadata": {},
   "outputs": [
    {
     "name": "stdout",
     "output_type": "stream",
     "text": [
      "[[2, 5], [4, 6], [5, 9], [11, 11], [12, 13]]\n"
     ]
    }
   ],
   "source": [
    "nums = [1,3,2,1,4,1,3,2,1,1,2,8,1,7]\n",
    "k = 8\n",
    "n = len(nums)\n",
    "i = j = summ = 0\n",
    "ans = []\n",
    "\n",
    "while j < n:\n",
    "    summ += nums[j]\n",
    "    if summ < k: \n",
    "        j +=1\n",
    "    elif summ == k:\n",
    "        ans.append([i,j])\n",
    "        j += 1\n",
    "    elif summ > k:\n",
    "        while summ > k and i < j:\n",
    "            summ -= nums[i]\n",
    "            i += 1\n",
    "        if summ == k:\n",
    "            ans.append([i,j])\n",
    "        j += 1\n",
    "print(ans)\n",
    "        "
   ]
  },
  {
   "cell_type": "code",
   "execution_count": 96,
   "id": "a8cacee3",
   "metadata": {},
   "outputs": [
    {
     "name": "stdout",
     "output_type": "stream",
     "text": [
      "[[2, 2], [10, -6]]\n"
     ]
    }
   ],
   "source": [
    "#pair sum problem\n",
    "#using dictionary\n",
    "\n",
    "nums = [10,5,2,2,3,-6,9,11]\n",
    "k = 4\n",
    "dictt = {}\n",
    "ans = []\n",
    "for x in nums:\n",
    "    if k-x in dictt or k-x == 0:\n",
    "        ans.append([k-x,x])\n",
    "    else:\n",
    "        dictt[x] = True\n",
    "print(ans)\n",
    "    "
   ]
  },
  {
   "cell_type": "code",
   "execution_count": 105,
   "id": "aee9262d",
   "metadata": {},
   "outputs": [
    {
     "name": "stdout",
     "output_type": "stream",
     "text": [
      "9\n"
     ]
    }
   ],
   "source": [
    "#mountain\n",
    "\n",
    "nums = [5, 6, 1, 2, 3, 4, 5, 4, 3, 2, 0, 1, 2, 3, -2, 4]\n",
    "n = len(nums)\n",
    "i = 1\n",
    "ans = 0\n",
    "while i < n-1:\n",
    "    isPeak = nums[i] > nums[i-1] and nums[i] > nums[i+1]\n",
    "    if isPeak:\n",
    "        #backward count\n",
    "        j=i\n",
    "        cnt =1\n",
    "        while j>0 and nums[j]>nums[j-1]:\n",
    "            cnt += 1\n",
    "            j-=1\n",
    "        #forward count\n",
    "        j=i\n",
    "        while j<n-1 and nums[j]> nums[j+1]:\n",
    "            cnt +=1\n",
    "            j+=1\n",
    "        ans = max(ans,cnt)\n",
    "        i=j\n",
    "    else:\n",
    "        i+=1\n",
    "print(ans)"
   ]
  },
  {
   "cell_type": "code",
   "execution_count": 121,
   "id": "27120f95",
   "metadata": {},
   "outputs": [
    {
     "name": "stdout",
     "output_type": "stream",
     "text": [
      "[2, 3]\n"
     ]
    }
   ],
   "source": [
    "nums = [2,4,5,5,5,5,5,7,9,9]\n",
    "target=5\n",
    "try:\n",
    "    first = nums.index(target)\n",
    "    nums.reverse()\n",
    "    second = len(nums) - nums.index(target) - 1\n",
    "    print([first,second])\n",
    "except:\n",
    "    print([-1,-1])"
   ]
  },
  {
   "cell_type": "code",
   "execution_count": 120,
   "id": "53e396ce",
   "metadata": {},
   "outputs": [
    {
     "name": "stdout",
     "output_type": "stream",
     "text": [
      "[2, 4, 5, 5, 5, 5, 5, 7, 9, 9]\n",
      "[9, 9, 7, 5, 5, 5, 5, 5, 4, 2]\n"
     ]
    }
   ],
   "source": [
    "nums = [2,4,5,5,5,5,5,7,9,9]\n",
    "print(nums)\n",
    "nums.reverse()\n",
    "print(nums)"
   ]
  },
  {
   "cell_type": "code",
   "execution_count": 122,
   "id": "a387f680",
   "metadata": {},
   "outputs": [
    {
     "name": "stdout",
     "output_type": "stream",
     "text": [
      "2\n"
     ]
    }
   ],
   "source": [
    "fruits = ['apple', 'banana', 'cherry']\n",
    "\n",
    "x = fruits.index(\"cherry\")\n",
    "\n",
    "print(x)"
   ]
  },
  {
   "cell_type": "code",
   "execution_count": 123,
   "id": "cb00a640",
   "metadata": {},
   "outputs": [
    {
     "data": {
      "text/plain": [
       "1"
      ]
     },
     "execution_count": 123,
     "metadata": {},
     "output_type": "execute_result"
    }
   ],
   "source": [
    "dictt= {2:1,3:2}\n",
    "dictt[2]"
   ]
  },
  {
   "cell_type": "code",
   "execution_count": 161,
   "id": "6648b83c",
   "metadata": {},
   "outputs": [
    {
     "data": {
      "text/plain": [
       "0"
      ]
     },
     "execution_count": 161,
     "metadata": {},
     "output_type": "execute_result"
    }
   ],
   "source": [
    "19//10"
   ]
  },
  {
   "cell_type": "code",
   "execution_count": 162,
   "id": "52ab322e",
   "metadata": {},
   "outputs": [
    {
     "data": {
      "text/plain": [
       "1"
      ]
     },
     "execution_count": 162,
     "metadata": {},
     "output_type": "execute_result"
    }
   ],
   "source": [
    "19%10"
   ]
  },
  {
   "cell_type": "code",
   "execution_count": 154,
   "id": "46a2c398",
   "metadata": {},
   "outputs": [
    {
     "data": {
      "text/plain": [
       "55"
      ]
     },
     "execution_count": 154,
     "metadata": {},
     "output_type": "execute_result"
    }
   ],
   "source": [
    "1+4+9+16+25"
   ]
  },
  {
   "cell_type": "code",
   "execution_count": 236,
   "id": "50a9e4bb",
   "metadata": {},
   "outputs": [
    {
     "name": "stdout",
     "output_type": "stream",
     "text": [
      "False\n"
     ]
    }
   ],
   "source": [
    "n = 29\n",
    "while n > 0 :\n",
    "    x= n%10   \n",
    "    n = n//10 \n",
    "    summ += x*x\n",
    "    #print(n,'*',summ)\n",
    "    if n == 0 and summ//10 > 0:\n",
    "        n = summ\n",
    "        summ = 0\n",
    "    elif n == 0 and summ//10 == 0:\n",
    "        if summ == 1:\n",
    "            print(True)\n",
    "        else:\n",
    "            print(False)"
   ]
  },
  {
   "cell_type": "code",
   "execution_count": 232,
   "id": "0188dc9e",
   "metadata": {},
   "outputs": [],
   "source": [
    "summ = 0\n",
    "n = 0"
   ]
  },
  {
   "cell_type": "code",
   "execution_count": 222,
   "id": "17f82dce",
   "metadata": {},
   "outputs": [
    {
     "data": {
      "text/plain": [
       "28"
      ]
     },
     "execution_count": 222,
     "metadata": {},
     "output_type": "execute_result"
    }
   ],
   "source": [
    "285//10"
   ]
  },
  {
   "cell_type": "code",
   "execution_count": 224,
   "id": "bce0bced",
   "metadata": {},
   "outputs": [
    {
     "data": {
      "text/plain": [
       "0"
      ]
     },
     "execution_count": 224,
     "metadata": {},
     "output_type": "execute_result"
    }
   ],
   "source": [
    "2//10"
   ]
  },
  {
   "cell_type": "code",
   "execution_count": 238,
   "id": "4e62eb79",
   "metadata": {},
   "outputs": [
    {
     "name": "stdout",
     "output_type": "stream",
     "text": [
      "False\n"
     ]
    }
   ],
   "source": [
    "n = 1111111\n",
    "summ = 0\n",
    "sett= set()\n",
    "while n > 0 :\n",
    "    x= n%10   \n",
    "    n = n//10 \n",
    "    summ += x*x\n",
    "    sett.add(summ)\n",
    "    if n == 0 and summ//10 > 0 and summ not in sett:\n",
    "        sett.add(summ)\n",
    "        n = summ\n",
    "        summ = 0\n",
    "    elif n == 0 and summ//10 == 0 and summ in sett:\n",
    "        print(False) \n",
    "    elif n == 0 and summ//10 == 0 and summ not in sett:\n",
    "        print(True) "
   ]
  },
  {
   "cell_type": "markdown",
   "id": "3932b4e7",
   "metadata": {},
   "source": [
    "# to fetch record from GCS bucket"
   ]
  },
  {
   "cell_type": "code",
   "execution_count": 128,
   "id": "550d1bf6",
   "metadata": {},
   "outputs": [],
   "source": [
    "try:\n",
    "    from google.cloud import storage\n",
    "    import google.cloud.storage\n",
    "    import json\n",
    "    import os\n",
    "    import sys\n",
    "except Exception as e:\n",
    "    print(\"Error : {} \".format(e))"
   ]
  },
  {
   "cell_type": "code",
   "execution_count": 152,
   "id": "400fbef4",
   "metadata": {},
   "outputs": [
    {
     "data": {
      "text/plain": [
       "0.3"
      ]
     },
     "execution_count": 152,
     "metadata": {},
     "output_type": "execute_result"
    }
   ],
   "source": [
    "PATH = os.path.join(os.getcwd() , 'tfgcp-365108-b232dd128c1c.json')\n",
    "os.environ['GOOGLE_APPLICATION_CREDENTIALS'] = PATH\n",
    "\n",
    "storage_client = storage.Client(PATH)\n",
    "\n",
    "bucket = storage_client.get_bucket('srbsk')\n",
    "\n",
    "filename = [filename.name for filename in list(bucket.list_blobs(prefix='')) ]\n",
    "\n",
    "max_size= []\n",
    "for i in filename:\n",
    "    max_size.append(bucket.get_blob(i).size)\n",
    "round(max(max_size)/1024/1024,1)"
   ]
  },
  {
   "cell_type": "code",
   "execution_count": 147,
   "id": "bafdc2df",
   "metadata": {},
   "outputs": [
    {
     "name": "stdout",
     "output_type": "stream",
     "text": [
      "Created projects/tfgcp-365108/metricDescriptors/custom.googleapis.com/my_metric320.\n"
     ]
    }
   ],
   "source": [
    "PATH = os.path.join(os.getcwd() , 'tfgcp-365108-b232dd128c1c.json')\n",
    "os.environ['GOOGLE_APPLICATION_CREDENTIALS'] = PATH\n",
    "import argparse\n",
    "import os\n",
    "import pprint\n",
    "import time\n",
    "import uuid\n",
    "\n",
    "from google.api import label_pb2 as ga_label\n",
    "from google.api import metric_pb2 as ga_metric\n",
    "from google.cloud import monitoring_v3\n",
    "from typing import Optional, Dict\n",
    "\n",
    "project_id=\"tfgcp-365108\"\n",
    "client = monitoring_v3.MetricServiceClient()\n",
    "project_name = f\"projects/{project_id}\"\n",
    "descriptor = ga_metric.MetricDescriptor()\n",
    "descriptor.type = \"custom.googleapis.com/my_metric4\" + '20'\n",
    "descriptor.metric_kind = ga_metric.MetricDescriptor.MetricKind.GAUGE\n",
    "descriptor.value_type = ga_metric.MetricDescriptor.ValueType.DOUBLE\n",
    "descriptor.description = \"This is a simple example of a maximum size of an object in bucket metric.\"\n",
    "\n",
    "# labels = ga_label.LabelDescriptor()\n",
    "# labels.key = \"TestLabel\"\n",
    "# labels.value_type = ga_label.LabelDescriptor.ValueType.STRING\n",
    "# labels.description = \"This is a test label\"\n",
    "# #descriptor.labels.append(labels)\n",
    "\n",
    "descriptor = client.create_metric_descriptor(\n",
    "    name=project_name, metric_descriptor=descriptor\n",
    ")\n",
    "print(\"Created {}.\".format(descriptor.name))"
   ]
  },
  {
   "cell_type": "code",
   "execution_count": 162,
   "id": "a42b7ccf",
   "metadata": {},
   "outputs": [],
   "source": [
    "import argparse\n",
    "import os\n",
    "import pprint\n",
    "import time\n",
    "import uuid\n",
    "from google.cloud import monitoring_v3\n",
    "\n",
    "project_id=\"tfgcp-365108\"\n",
    "client = monitoring_v3.MetricServiceClient()\n",
    "project_name = f\"projects/{project_id}\"\n",
    "\n",
    "series = monitoring_v3.TimeSeries()\n",
    "series.metric.type = \"custom.googleapis.com/my_metric4\" + '20'\n",
    "series.resource.type = \"global\"\n",
    "# series.resource.labels[\"bucket_name\"] = \"srbsk\"\n",
    "# series.resource.labels[\"location\"] = \"us-east1\"\n",
    "series.metric.labels[\"TestLabel\"] = \"My Label Data\"\n",
    "now = time.time()\n",
    "seconds = int(now)\n",
    "nanos = int((now - seconds) * 10 ** 9)\n",
    "interval = monitoring_v3.TimeInterval(\n",
    "    {\"end_time\": {\"seconds\": seconds, \"nanos\": nanos}}\n",
    ")\n",
    "point = monitoring_v3.Point({\"interval\": interval, \"value\": {\"double_value\": round(max(max_size)/1024/1024,2)}})\n",
    "series.points = [point]\n",
    "client.create_time_series(name=project_name, time_series=[series])"
   ]
  },
  {
   "cell_type": "code",
   "execution_count": 165,
   "id": "2a9867b8",
   "metadata": {},
   "outputs": [
    {
     "data": {
      "text/plain": [
       "0.3"
      ]
     },
     "execution_count": 165,
     "metadata": {},
     "output_type": "execute_result"
    }
   ],
   "source": [
    "round(max(max_size)/1024/1024,1)"
   ]
  },
  {
   "cell_type": "code",
   "execution_count": 166,
   "id": "1695bbbb",
   "metadata": {},
   "outputs": [
    {
     "data": {
      "text/plain": [
       "303.5888671875"
      ]
     },
     "execution_count": 166,
     "metadata": {},
     "output_type": "execute_result"
    }
   ],
   "source": [
    "max(max_size)/1024"
   ]
  },
  {
   "cell_type": "code",
   "execution_count": null,
   "id": "c287810d",
   "metadata": {},
   "outputs": [],
   "source": []
  }
 ],
 "metadata": {
  "kernelspec": {
   "display_name": "Python 3 (ipykernel)",
   "language": "python",
   "name": "python3"
  },
  "language_info": {
   "codemirror_mode": {
    "name": "ipython",
    "version": 3
   },
   "file_extension": ".py",
   "mimetype": "text/x-python",
   "name": "python",
   "nbconvert_exporter": "python",
   "pygments_lexer": "ipython3",
   "version": "3.10.4"
  }
 },
 "nbformat": 4,
 "nbformat_minor": 5
}
